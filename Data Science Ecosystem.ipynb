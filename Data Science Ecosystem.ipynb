{
 "cells": [
  {
   "cell_type": "markdown",
   "id": "c95f160b-ece2-4234-982d-acad22ea0c9e",
   "metadata": {},
   "source": [
    "# Data Science Tools And Ecosystem"
   ]
  },
  {
   "cell_type": "markdown",
   "id": "07394aa8-15d9-46cd-b37c-d28eaf4a8af5",
   "metadata": {},
   "source": [
    "In this notebook,Data Science tools and ecosystem are summarised."
   ]
  },
  {
   "cell_type": "markdown",
   "id": "43b905a3-0346-4fdf-b231-c0b19b222897",
   "metadata": {},
   "source": [
    "**Objectives**\n",
    "- List popular languages for Data Science\n",
    "- List popular libraries for Data Science\n",
    "- Data Science Tools"
   ]
  },
  {
   "cell_type": "markdown",
   "id": "9d6ddccd-2f63-42a6-812b-2d3173057346",
   "metadata": {},
   "source": [
    "Some of the popular languages that Data Scientist use are :\n",
    "1. Python\n",
    "2. R\n",
    "3. Scala\n",
    "4. Julia"
   ]
  },
  {
   "cell_type": "markdown",
   "id": "7bed7298-6e75-4072-a7c5-eafb5a34ad0b",
   "metadata": {},
   "source": [
    "Some of the commonly used libraries used by Data Scientist include :\n",
    "1. Pandas\n",
    "2. NumPy\n",
    "3. Matplotlib\n",
    "4. PyTorch"
   ]
  },
  {
   "cell_type": "markdown",
   "id": "0ec6c5b3-3046-4c1c-806f-993d1f7611e3",
   "metadata": {},
   "source": [
    "|DataScience Tools|\n",
    "|-----------------|\n",
    "|Jupyter Notebook |\n",
    "| R STUDIO |\n",
    "| Spyder |\n"
   ]
  },
  {
   "cell_type": "markdown",
   "id": "ce02236d-04ee-4844-936b-fb91d48acb88",
   "metadata": {},
   "source": [
    "### Below are the examples of evaluating arithematic expressions in Python"
   ]
  },
  {
   "cell_type": "code",
   "execution_count": 14,
   "id": "dea8f978-bf49-4b1e-928d-80c63d654c48",
   "metadata": {},
   "outputs": [
    {
     "name": "stdout",
     "output_type": "stream",
     "text": [
      "17\n"
     ]
    }
   ],
   "source": [
    "# This is a simple arithematic expression to multiply,then add integers\n",
    "print((3*4)+5)"
   ]
  },
  {
   "cell_type": "code",
   "execution_count": 20,
   "id": "7173112f-85d8-406b-b1c5-2ab948490d24",
   "metadata": {},
   "outputs": [
    {
     "name": "stdout",
     "output_type": "stream",
     "text": [
      "3.3333333333333335\n"
     ]
    }
   ],
   "source": [
    "# This will convert 200 minutes to hrs by dividing by 60\n",
    "print((200/60))"
   ]
  },
  {
   "cell_type": "markdown",
   "id": "d6d8c87c-448f-4339-90ab-594a9ebca146",
   "metadata": {},
   "source": [
    "## AUTHOR\n",
    "SHILPA S"
   ]
  },
  {
   "cell_type": "code",
   "execution_count": null,
   "id": "97dd8a24-c016-4118-98e8-4b2d8e7b4feb",
   "metadata": {},
   "outputs": [],
   "source": []
  }
 ],
 "metadata": {
  "kernelspec": {
   "display_name": "Python 3 (ipykernel)",
   "language": "python",
   "name": "python3"
  },
  "language_info": {
   "codemirror_mode": {
    "name": "ipython",
    "version": 3
   },
   "file_extension": ".py",
   "mimetype": "text/x-python",
   "name": "python",
   "nbconvert_exporter": "python",
   "pygments_lexer": "ipython3",
   "version": "3.12.4"
  }
 },
 "nbformat": 4,
 "nbformat_minor": 5
}
